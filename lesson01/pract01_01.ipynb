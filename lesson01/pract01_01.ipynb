{
 "cells": [
  {
   "cell_type": "code",
   "execution_count": 21,
   "metadata": {},
   "outputs": [],
   "source": [
    "import requests\n",
    "\n",
    "from dotenv import load_dotenv\n",
    "import os\n",
    "\n",
    "load_dotenv()\n",
    "\n",
    "from pprint import pprint\n",
    "\n",
    "import json"
   ]
  },
  {
   "cell_type": "code",
   "execution_count": 23,
   "metadata": {},
   "outputs": [],
   "source": [
    "# https://api.giphy.com/v1/gifs/search?api_key=6m4WhJIxFKL2PhAIVQ8JgRUsUPHsGZmk&q=tiger&limit=3&offset=0&rating=g&lang=en&bundle=messaging_non_clips\n",
    "\n",
    "URL = \"https://api.giphy.com/v1/gifs/search\"\n",
    "PARAMS = {\n",
    "    \"api_key\": os.getenv(\"GIPHY_API_KEY\"),\n",
    "    \"q\": \"tiger\",\n",
    "    \"limit\": 3,\n",
    "    \"offset\": 0,\n",
    "    \"rating\": \"g\",\n",
    "    \"lang\": \"en\",\n",
    "    \"bundle\": \"messaging_non_clips\"\n",
    "}\n",
    "\n",
    "HEADERS = {\n",
    "    \"User-Agent\": \"Mozilla/5.0 (Windows NT 10.0; Win64; x64) AppleWebKit/537.36 (KHTML, like Gecko) Chrome/123.0.0.0 Safari/537.36\",\n",
    "    \"Accept\": \"*/*\"\n",
    "}"
   ]
  },
  {
   "cell_type": "code",
   "execution_count": 24,
   "metadata": {},
   "outputs": [],
   "source": [
    "response = requests.get(URL, params=PARAMS, headers=HEADERS)"
   ]
  },
  {
   "cell_type": "code",
   "execution_count": 26,
   "metadata": {},
   "outputs": [],
   "source": [
    "respDict = response.json()\n",
    "\n",
    "# with open(\"resp.json\", \"w\") as outFile:\n",
    "#     json.dump(respDict, outFile, indent=2)"
   ]
  },
  {
   "cell_type": "code",
   "execution_count": 27,
   "metadata": {},
   "outputs": [
    {
     "name": "stdout",
     "output_type": "stream",
     "text": [
      "https://media0.giphy.com/media/1Ygkk70ho1h6YrK6oC/giphy.gif?cid=37ddeb5f59754x0shk8izlqfgd4bhuqln3qlzzomkadjbhg0&ep=v1_gifs_search&rid=giphy.gif&ct=g\n",
      "https://media4.giphy.com/media/hsHE0U4dQByBa/giphy.gif?cid=37ddeb5f59754x0shk8izlqfgd4bhuqln3qlzzomkadjbhg0&ep=v1_gifs_search&rid=giphy.gif&ct=g\n",
      "https://media4.giphy.com/media/82kRFGXWMaNVCJZhhG/giphy.gif?cid=37ddeb5f59754x0shk8izlqfgd4bhuqln3qlzzomkadjbhg0&ep=v1_gifs_search&rid=giphy.gif&ct=g\n"
     ]
    }
   ],
   "source": [
    "for gif in respDict['data']:\n",
    "    print(gif['images']['original']['url'])"
   ]
  }
 ],
 "metadata": {
  "kernelspec": {
   "display_name": ".venv",
   "language": "python",
   "name": "python3"
  },
  "language_info": {
   "codemirror_mode": {
    "name": "ipython",
    "version": 3
   },
   "file_extension": ".py",
   "mimetype": "text/x-python",
   "name": "python",
   "nbconvert_exporter": "python",
   "pygments_lexer": "ipython3",
   "version": "3.11.6"
  }
 },
 "nbformat": 4,
 "nbformat_minor": 2
}
