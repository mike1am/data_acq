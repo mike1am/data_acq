{
 "cells": [
  {
   "cell_type": "code",
   "execution_count": 2,
   "metadata": {},
   "outputs": [],
   "source": [
    "import requests\n",
    "from bs4 import BeautifulSoup\n",
    "from fake_useragent import UserAgent\n",
    "import re\n",
    "\n",
    "import csv"
   ]
  },
  {
   "cell_type": "code",
   "execution_count": 3,
   "metadata": {},
   "outputs": [],
   "source": [
    "SEARCH_OPTS = {\n",
    "    'area': int, # 1 - Москва, 2019 - МО\n",
    "    'part_time': {\n",
    "        'employment_part': \"Неполный день\",\n",
    "        'from_four_to_six_hours_in_a_day': \"От 4 часов в день\",\n",
    "        'only_saturday_and_sunday': \"По выходным\",\n",
    "        'start_after_sixteen': \"По вечерам\",\n",
    "        'employment_project': \"Разовое задание\"\n",
    "    },\n",
    "    'salary': int,\n",
    "    'only_with_salary': bool,\n",
    "    'text': str # позиция\n",
    "}\n",
    "\n",
    "INIT_PARAMS = {\n",
    "    'hhtmFrom': \"vacancy_search_list\",\n",
    "    'hhtmFromLabel': \"vacancy_search_line\",\n",
    "    'search_field': [\"name\", \"company_name\", \"description\"],\n",
    "    # 'enable_snippets': False,\n",
    "    'ored_clusters': True,\n",
    "}"
   ]
  },
  {
   "cell_type": "code",
   "execution_count": null,
   "metadata": {},
   "outputs": [],
   "source": [
    "params = INIT_PARAMS.copy()\n",
    "\n",
    "for optName, optType in SEARCH_OPTS.items():\n",
    "    if type(optType) == dict:\n",
    "        optDesc = \"\".join([\n",
    "            f\"{i}. {desc}\\n\"\n",
    "            for i, desc in enumerate(optType.values())\n",
    "        ])\n",
    "        params.update({optName: list(optType.keys())[int(input(f\"{optDesc}Input variant: \"))]})\n",
    "    else:\n",
    "        params.update({optName: optType(input(f\"Input parametr <{optName}>: \"))})\n",
    "\n",
    "params"
   ]
  },
  {
   "cell_type": "code",
   "execution_count": 5,
   "metadata": {},
   "outputs": [
    {
     "data": {
      "text/plain": [
       "{'hhtmFrom': 'vacancy_search_list',\n",
       " 'hhtmFromLabel': 'vacancy_search_line',\n",
       " 'search_field': ['name', 'company_name', 'description'],\n",
       " 'ored_clusters': True,\n",
       " 'area': 1,\n",
       " 'salary': 70000,\n",
       " 'text': 'python'}"
      ]
     },
     "execution_count": 5,
     "metadata": {},
     "output_type": "execute_result"
    }
   ],
   "source": [
    "params = INIT_PARAMS.copy()\n",
    "params.update({\n",
    "    'area': 1,\n",
    "    # 'part_time': ['employment_part'],\n",
    "    'salary': 70_000,\n",
    "    # 'only_with_salary': True,\n",
    "    'text': 'python'\n",
    "})\n",
    "params"
   ]
  },
  {
   "cell_type": "code",
   "execution_count": 6,
   "metadata": {},
   "outputs": [],
   "source": [
    "BASE_URL = \"https://hh.ru\"\n",
    "INIT_LINK = \"/search/vacancy/\"\n",
    "page_modif = lambda p: {'page': p}\n",
    "HEADER = {\n",
    "    'Accept': \"*/*\",\n",
    "    'User-Agent': UserAgent().chrome,\n",
    "    'Connection': \"keep-alive\",\n",
    "}"
   ]
  },
  {
   "cell_type": "code",
   "execution_count": 7,
   "metadata": {},
   "outputs": [],
   "source": [
    "def parseSal(salStr):\n",
    "    salStr, tax = salStr.split(\"\\xa0\")\n",
    "    currency = salStr[-1]\n",
    "    \n",
    "    salStr = re.sub(\"\\s\", \"\", salStr[:-1]).replace(\"до\", \"–\")\n",
    "    if salStr[:2].lower() == \"от\":\n",
    "        salStr = salStr.lstrip(\"от\") + \"–\"\n",
    "    valScopes = list(map(lambda s: int(s) if s else 0, salStr.split(\"–\")))\n",
    "    \n",
    "    return valScopes, currency, tax"
   ]
  },
  {
   "cell_type": "code",
   "execution_count": 8,
   "metadata": {},
   "outputs": [],
   "source": [
    "def parseSoup(soup, data):\n",
    "    for card in soup.find_all(\"div\", class_=re.compile(\"^vacancy-card\")):\n",
    "        cardDict = {}\n",
    "        \n",
    "        tag = card.findChild(\"span\", class_=re.compile(\"^vacancy-name\"))\n",
    "        cardDict['position'] = tag.getText() if tag else None\n",
    "        \n",
    "        tag = card.findChild(\"div\", class_=re.compile(\"^info-section\")) \\\n",
    "            .findChild(\"a\", class_=re.compile(\"^bloko-link\"))\n",
    "        cardDict['company'] = (\n",
    "            tag.findChild(\"span\", class_=re.compile(\"^company-info-text\")).getText() \\\n",
    "                .replace(\"\\xa0\", \" \")\n",
    "                if tag else None,\n",
    "            BASE_URL + tag.get(\"href\") if tag else None\n",
    "        )\n",
    "\n",
    "        tag = card.findChild(\"span\", class_=re.compile(\"^compensation-text\"))\n",
    "        cardDict['salary'] = parseSal(tag.getText()) if tag else None\n",
    "            \n",
    "        data.append(cardDict)"
   ]
  },
  {
   "cell_type": "code",
   "execution_count": null,
   "metadata": {},
   "outputs": [],
   "source": [
    "def isNextExists(soup):\n",
    "    return bool(soup.find(\"a\", {'data-qa': \"pager-next\"}))"
   ]
  },
  {
   "cell_type": "code",
   "execution_count": 10,
   "metadata": {},
   "outputs": [
    {
     "name": "stdout",
     "output_type": "stream",
     "text": [
      "*"
     ]
    },
    {
     "ename": "NameError",
     "evalue": "name 'isNextExists' is not defined",
     "output_type": "error",
     "traceback": [
      "\u001b[1;31m---------------------------------------------------------------------------\u001b[0m",
      "\u001b[1;31mNameError\u001b[0m                                 Traceback (most recent call last)",
      "Cell \u001b[1;32mIn[10], line 15\u001b[0m\n\u001b[0;32m     13\u001b[0m soup \u001b[38;5;241m=\u001b[39m BeautifulSoup(response\u001b[38;5;241m.\u001b[39mtext, features\u001b[38;5;241m=\u001b[39m\u001b[38;5;124m\"\u001b[39m\u001b[38;5;124mhtml.parser\u001b[39m\u001b[38;5;124m\"\u001b[39m)\n\u001b[0;32m     14\u001b[0m parseSoup(soup, parseData)\n\u001b[1;32m---> 15\u001b[0m \u001b[38;5;28;01mif\u001b[39;00m \u001b[38;5;129;01mnot\u001b[39;00m \u001b[43misNextExists\u001b[49m(soup):\n\u001b[0;32m     16\u001b[0m     nextExists \u001b[38;5;241m=\u001b[39m \u001b[38;5;28;01mFalse\u001b[39;00m\n\u001b[0;32m     17\u001b[0m     \u001b[38;5;28mprint\u001b[39m()\n",
      "\u001b[1;31mNameError\u001b[0m: name 'isNextExists' is not defined"
     ]
    }
   ],
   "source": [
    "session = requests.session() # для оптимизации повторных запросов\n",
    "pageNum = 0\n",
    "nextExists = True\n",
    "parseData = []\n",
    "\n",
    "while nextExists:\n",
    "    params.update(page_modif(pageNum))\n",
    "    response = session.get(BASE_URL + INIT_LINK, params=params, headers=HEADER)\n",
    "    print(\"*\" if response.ok else \"!\", end=\"\")\n",
    "    with open(\"hh.html\", \"wb\") as f:\n",
    "        f.write(response.content)\n",
    "\n",
    "    soup = BeautifulSoup(response.text, features=\"html.parser\")\n",
    "    parseSoup(soup, parseData)\n",
    "    if not isNextExists(soup):\n",
    "        nextExists = False\n",
    "        print()\n",
    "\n",
    "    pageNum += 1"
   ]
  },
  {
   "cell_type": "code",
   "execution_count": null,
   "metadata": {},
   "outputs": [],
   "source": [
    "CSV_FIELDS = (\"position\", \"company\", \"comp_link\", \"sal_from\", \"sal_to\", \"sal_curr\", \"sal_tax\")\n",
    "\n",
    "with open(\"hh.csv\", \"w\", encoding=\"utf-8\", newline=\"\") as outFile:\n",
    "    writer = csv.writer(outFile, delimiter=\";\")\n",
    "    writer.writerow(CSV_FIELDS)\n",
    "    writer.writerows(\n",
    "        (\n",
    "            row['position'],\n",
    "            row['company'][0] if row['company'] else None,\n",
    "            row['company'][1] if row['company'] else None,\n",
    "            row['salary'][0][0] if row['salary'] else None, \n",
    "            row['salary'][0][1] if row['salary'] else None,\n",
    "            row['salary'][1] if row['salary'] else None,\n",
    "            row['salary'][2] if row['salary'] else None\n",
    "        )\n",
    "        for row in parseData\n",
    "    )"
   ]
  }
 ],
 "metadata": {
  "kernelspec": {
   "display_name": ".venv",
   "language": "python",
   "name": "python3"
  },
  "language_info": {
   "codemirror_mode": {
    "name": "ipython",
    "version": 3
   },
   "file_extension": ".py",
   "mimetype": "text/x-python",
   "name": "python",
   "nbconvert_exporter": "python",
   "pygments_lexer": "ipython3",
   "version": "3.11.6"
  }
 },
 "nbformat": 4,
 "nbformat_minor": 2
}
